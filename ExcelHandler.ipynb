{
 "cells": [
  {
   "cell_type": "code",
   "execution_count": 57,
   "metadata": {
    "collapsed": true
   },
   "outputs": [],
   "source": [
    "from openpyxl import load_workbook"
   ]
  },
  {
   "cell_type": "code",
   "execution_count": 58,
   "metadata": {
    "collapsed": false
   },
   "outputs": [],
   "source": [
    "class ExcelHandler(object):\n",
    "    wbObj = None\n",
    "    wbSheet = None\n",
    "    data = []\n",
    "    \n",
    "    def __init__(self, bookPath = \"Untitled.xlsx\"):\n",
    "        self.bookPath = bookPath\n",
    "        self.wbObj = self.openWorkBook()\n",
    "    \n",
    "    def getWorkBook(self):\n",
    "        return self.wbObj\n",
    "    \n",
    "    def openWorkBook(self):\n",
    "        try:\n",
    "            self.wbObj = load_workbook(self.bookPath)\n",
    "        except:\n",
    "            print \"Unable to open workbook: \" + self.bookPath + \". Please check it exists.\"\n",
    "        return self.wbObj;\n",
    "    \n",
    "    def getSheet(self, sheetName = 'Sheet1'):\n",
    "        try:\n",
    "            self.wbSheet = self.wbObj[sheetName]\n",
    "        except:\n",
    "            print \"Unable to open workbook: \" + self.bookPath + \". Please check it exists.\"\n",
    "        return self.wbSheet\n",
    "        \n",
    "    def getData(self):\n",
    "        temp = []\n",
    "        #self.wbSheet.max_row = self.wbSheet.max_column = None\n",
    "        for row in self.wbSheet.rows:\n",
    "            if (len(temp) > 0):\n",
    "                self.data.append(temp)\n",
    "                temp = []\n",
    "            for cell in row:\n",
    "                if (cell.value != None):\n",
    "                    temp.append(cell.value.strip())\n",
    "                else:\n",
    "                    temp.append(cell.value)\n",
    "        return self.data\n",
    "    \n",
    "    def getDataInColumns(self, indexList):\n",
    "        temp = []\n",
    "        index = 1\n",
    "        #self.wbSheet.max_row = self.wbSheet.max_column = None\n",
    "        for row in self.wbSheet.rows:\n",
    "            if (len(temp) > 0):\n",
    "                self.data.append(temp)\n",
    "                temp = []\n",
    "                index = 1\n",
    "            for cell in row:\n",
    "                if (index in indexList):\n",
    "                    if (cell.value != None):\n",
    "                        temp.append(cell.value.strip())\n",
    "                    else:\n",
    "                        temp.append(cell.value)\n",
    "                index = index + 1\n",
    "        return self.data\n",
    "    "
   ]
  }
 ],
 "metadata": {
  "kernelspec": {
   "display_name": "Python 2",
   "language": "python",
   "name": "python2"
  },
  "language_info": {
   "codemirror_mode": {
    "name": "ipython",
    "version": 2
   },
   "file_extension": ".py",
   "mimetype": "text/x-python",
   "name": "python",
   "nbconvert_exporter": "python",
   "pygments_lexer": "ipython2",
   "version": "2.7.13"
  }
 },
 "nbformat": 4,
 "nbformat_minor": 2
}
