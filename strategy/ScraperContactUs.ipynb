{
 "cells": [
  {
   "cell_type": "code",
   "execution_count": null,
   "metadata": {
    "collapsed": true
   },
   "outputs": [],
   "source": [
    "import re\n",
    "from urlparse import urlparse"
   ]
  },
  {
   "cell_type": "code",
   "execution_count": null,
   "metadata": {
    "collapsed": true
   },
   "outputs": [],
   "source": [
    "class ScraperContactUs:\n",
    "    'Count links'\n",
    "    linkCount = 0\n",
    "    'Count emails'\n",
    "    emailCount = 0\n",
    "    contactLinks = []\n",
    "    emails = []\n",
    "    \n",
    "    def __init__(self, soup, scraper):\n",
    "        self.soup = soup\n",
    "        self.scraper = scraper\n",
    "        self.linkCount = 0\n",
    "        self.contactLinks = []\n",
    "\n",
    "    # stores the `contact` links to list\n",
    "    def getContactLinks(self):\n",
    "        links = self.soup.findAll('a')\n",
    "        regex = r\"Contact\"\n",
    "        for link in enumerate(links):\n",
    "            matches = []\n",
    "            matches = re.finditer(regex, str(link), re.MULTILINE | re.IGNORECASE)\n",
    "            \n",
    "            for match in enumerate(matches):\n",
    "                self.addToList(self.scraper.makeTextSoup(str(link)).find('a', href=True)['href'])\n",
    "                \n",
    "        return self.contactLinks\n",
    "\n",
    "    # stores the `impressum` links to list\n",
    "    def getImpressumLinks(self):\n",
    "        links = self.soup.findAll('a')\n",
    "        regex = r\"Impressum\"\n",
    "        for link in enumerate(links):\n",
    "            matches = []\n",
    "            matches = re.finditer(regex, str(link), re.MULTILINE | re.IGNORECASE)\n",
    "            \n",
    "            for match in enumerate(matches):\n",
    "                self.addToList(self.scraper.makeTextSoup(str(link)).find('a', href=True)['href'])\n",
    "                \n",
    "        return self.contactLinks\n",
    "\n",
    "    # some links are /contact/ instead of fully qualified link with domain name\n",
    "    # thus before adding to contact list append the domain name if so\n",
    "    def addToList(self, linkToAdd):\n",
    "        if linkToAdd not in self.contactLinks:\n",
    "            domain = self.scraper.getDomain(linkToAdd)\n",
    "            if (domain == self.scraper.domain):\n",
    "                self.contactLinks.append(linkToAdd)\n",
    "            else:\n",
    "                linkToAdd = self.scraper.domain + linkToAdd\n",
    "                self.contactLinks.append(linkToAdd)\n",
    "            self.incrementLinkCount()\n",
    "    \n",
    "    def getLinkCount(self):\n",
    "        return self.linkCount\n",
    "    \n",
    "    def incrementLinkCount(self):\n",
    "        self.linkCount = self.linkCount + 1\n",
    "        \n",
    "    def incrementEmailCount(self):\n",
    "        self.emailCount = self.emailCount + 1\n",
    "    \n",
    "    # sequentially parse through each contact link and visit them\n",
    "    # use regex to find the email address from the page source\n",
    "    def findEmail(self):\n",
    "        for link in self.contactLinks:\n",
    "            self.soup = self.scraper.makeSoup(link)\n",
    "            matches = self.soup.find_all(string = re.compile(\"^[a-zA-Z0-9_.+-]+@[a-zA-Z0-9-]+\\.[a-zA-Z0-9-.]+$\"))\n",
    "            for email in matches:\n",
    "                # save email\n",
    "                self.addEmailToList(email)\n",
    "    \n",
    "    def addEmailToList(self, emailToAdd):\n",
    "        if emailToAdd not in self.emails:\n",
    "            self.emails.append(emailToAdd)\n",
    "            self.incrementEmailCount()\n",
    "    \n",
    "    def getEmailCount(self):\n",
    "        return self.emailCount\n"
   ]
  }
 ],
 "metadata": {
  "kernelspec": {
   "display_name": "Python 2",
   "language": "python",
   "name": "python2"
  },
  "language_info": {
   "codemirror_mode": {
    "name": "ipython",
    "version": 2
   },
   "file_extension": ".py",
   "mimetype": "text/x-python",
   "name": "python",
   "nbconvert_exporter": "python",
   "pygments_lexer": "ipython2",
   "version": "2.7.13"
  }
 },
 "nbformat": 4,
 "nbformat_minor": 2
}
